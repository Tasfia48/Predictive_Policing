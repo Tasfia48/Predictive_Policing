{
  "nbformat": 4,
  "nbformat_minor": 0,
  "metadata": {
    "colab": {
      "name": "district-community area percentage calculation ",
      "provenance": [],
      "mount_file_id": "1T9XI-nHVRqeLNzywkYZ0hDRKEUm5H_kD",
      "authorship_tag": "ABX9TyPdpcWd/6EBTYhIljzLyAeE",
      "include_colab_link": true
    },
    "kernelspec": {
      "name": "python3",
      "display_name": "Python 3"
    }
  },
  "cells": [
    {
      "cell_type": "markdown",
      "metadata": {
        "id": "view-in-github",
        "colab_type": "text"
      },
      "source": [
        "<a href=\"https://colab.research.google.com/github/Tasfia48/Predictive_Policing/blob/master/district_community_area_percentage_calculation.ipynb\" target=\"_parent\"><img src=\"https://colab.research.google.com/assets/colab-badge.svg\" alt=\"Open In Colab\"/></a>"
      ]
    },
    {
      "cell_type": "code",
      "metadata": {
        "id": "F4H7rITbLeM1",
        "colab_type": "code",
        "colab": {
          "base_uri": "https://localhost:8080/",
          "height": 1000
        },
        "outputId": "ea145781-61f7-40d6-c4e8-4190d53430f0"
      },
      "source": [
        "%%time \n",
        "!apt update\n",
        "!apt upgrade\n",
        "!apt install gdal-bin python-gdal python3-gdal \n",
        "# Install rtree - Geopandas requirment\n",
        "!apt install python3-rtree \n",
        "# Install Geopandas\n",
        "!pip install git+git://github.com/geopandas/geopandas.git\n",
        "# Install descartes - Geopandas requirment\n",
        "!pip install descartes"
      ],
      "execution_count": 1,
      "outputs": [
        {
          "output_type": "stream",
          "text": [
            "\u001b[33m\r0% [Working]\u001b[0m\r            \rHit:1 https://cloud.r-project.org/bin/linux/ubuntu bionic-cran35/ InRelease\n",
            "\u001b[33m\r0% [Waiting for headers] [Waiting for headers] [Waiting for headers] [Waiting f\u001b[0m\r                                                                               \rIgn:2 https://developer.download.nvidia.com/compute/cuda/repos/ubuntu1804/x86_64  InRelease\n",
            "\u001b[33m\r0% [Waiting for headers] [Waiting for headers] [Waiting for headers] [Waiting f\u001b[0m\u001b[33m\r0% [1 InRelease gpgv 3,626 B] [Waiting for headers] [Waiting for headers] [Wait\u001b[0m\r                                                                               \rHit:3 http://ppa.launchpad.net/graphics-drivers/ppa/ubuntu bionic InRelease\n",
            "\u001b[33m\r0% [1 InRelease gpgv 3,626 B] [Waiting for headers] [Waiting for headers] [Wait\u001b[0m\r                                                                               \rHit:4 http://security.ubuntu.com/ubuntu bionic-security InRelease\n",
            "\u001b[33m\r0% [1 InRelease gpgv 3,626 B] [Waiting for headers] [Waiting for headers] [Conn\u001b[0m\r                                                                               \rHit:5 http://archive.ubuntu.com/ubuntu bionic InRelease\n",
            "\u001b[33m\r0% [1 InRelease gpgv 3,626 B] [Waiting for headers] [Waiting for headers] [Conn\u001b[0m\r                                                                               \rIgn:6 https://developer.download.nvidia.com/compute/machine-learning/repos/ubuntu1804/x86_64  InRelease\n",
            "\u001b[33m\r0% [1 InRelease gpgv 3,626 B] [Waiting for headers] [Connecting to ppa.launchpa\u001b[0m\r                                                                               \rHit:7 https://developer.download.nvidia.com/compute/cuda/repos/ubuntu1804/x86_64  Release\n",
            "Hit:8 https://developer.download.nvidia.com/compute/machine-learning/repos/ubuntu1804/x86_64  Release\n",
            "Hit:9 http://archive.ubuntu.com/ubuntu bionic-updates InRelease\n",
            "Hit:10 http://ppa.launchpad.net/marutter/c2d4u3.5/ubuntu bionic InRelease\n",
            "Hit:11 http://archive.ubuntu.com/ubuntu bionic-backports InRelease\n",
            "Reading package lists... Done\n",
            "Building dependency tree       \n",
            "Reading state information... Done\n",
            "4 packages can be upgraded. Run 'apt list --upgradable' to see them.\n",
            "Reading package lists... Done\n",
            "Building dependency tree       \n",
            "Reading state information... Done\n",
            "Calculating upgrade... Done\n",
            "The following package was automatically installed and is no longer required:\n",
            "  libnvidia-common-440\n",
            "Use 'apt autoremove' to remove it.\n",
            "The following packages have been kept back:\n",
            "  libcudnn7 libcudnn7-dev libnccl-dev libnccl2\n",
            "0 upgraded, 0 newly installed, 0 to remove and 4 not upgraded.\n",
            "Reading package lists... Done\n",
            "Building dependency tree       \n",
            "Reading state information... Done\n",
            "gdal-bin is already the newest version (2.2.3+dfsg-2).\n",
            "python-gdal is already the newest version (2.2.3+dfsg-2).\n",
            "python3-gdal is already the newest version (2.2.3+dfsg-2).\n",
            "The following package was automatically installed and is no longer required:\n",
            "  libnvidia-common-440\n",
            "Use 'apt autoremove' to remove it.\n",
            "0 upgraded, 0 newly installed, 0 to remove and 4 not upgraded.\n",
            "Reading package lists... Done\n",
            "Building dependency tree       \n",
            "Reading state information... Done\n",
            "python3-rtree is already the newest version (0.8.3+ds-1).\n",
            "The following package was automatically installed and is no longer required:\n",
            "  libnvidia-common-440\n",
            "Use 'apt autoremove' to remove it.\n",
            "0 upgraded, 0 newly installed, 0 to remove and 4 not upgraded.\n",
            "Collecting git+git://github.com/geopandas/geopandas.git\n",
            "  Cloning git://github.com/geopandas/geopandas.git to /tmp/pip-req-build-jb17c43m\n",
            "  Running command git clone -q git://github.com/geopandas/geopandas.git /tmp/pip-req-build-jb17c43m\n",
            "Requirement already satisfied (use --upgrade to upgrade): geopandas==0.8.0+4.gb0381e1 from git+git://github.com/geopandas/geopandas.git in /usr/local/lib/python3.6/dist-packages\n",
            "Requirement already satisfied: pandas>=0.23.0 in /usr/local/lib/python3.6/dist-packages (from geopandas==0.8.0+4.gb0381e1) (1.0.5)\n",
            "Requirement already satisfied: shapely in /usr/local/lib/python3.6/dist-packages (from geopandas==0.8.0+4.gb0381e1) (1.7.0)\n",
            "Requirement already satisfied: fiona in /usr/local/lib/python3.6/dist-packages (from geopandas==0.8.0+4.gb0381e1) (1.8.13.post1)\n",
            "Requirement already satisfied: pyproj>=2.2.0 in /usr/local/lib/python3.6/dist-packages (from geopandas==0.8.0+4.gb0381e1) (2.6.1.post1)\n",
            "Requirement already satisfied: pytz>=2017.2 in /usr/local/lib/python3.6/dist-packages (from pandas>=0.23.0->geopandas==0.8.0+4.gb0381e1) (2018.9)\n",
            "Requirement already satisfied: numpy>=1.13.3 in /usr/local/lib/python3.6/dist-packages (from pandas>=0.23.0->geopandas==0.8.0+4.gb0381e1) (1.18.5)\n",
            "Requirement already satisfied: python-dateutil>=2.6.1 in /usr/local/lib/python3.6/dist-packages (from pandas>=0.23.0->geopandas==0.8.0+4.gb0381e1) (2.8.1)\n",
            "Requirement already satisfied: six>=1.7 in /usr/local/lib/python3.6/dist-packages (from fiona->geopandas==0.8.0+4.gb0381e1) (1.12.0)\n",
            "Requirement already satisfied: cligj>=0.5 in /usr/local/lib/python3.6/dist-packages (from fiona->geopandas==0.8.0+4.gb0381e1) (0.5.0)\n",
            "Requirement already satisfied: attrs>=17 in /usr/local/lib/python3.6/dist-packages (from fiona->geopandas==0.8.0+4.gb0381e1) (19.3.0)\n",
            "Requirement already satisfied: click-plugins>=1.0 in /usr/local/lib/python3.6/dist-packages (from fiona->geopandas==0.8.0+4.gb0381e1) (1.1.1)\n",
            "Requirement already satisfied: click<8,>=4.0 in /usr/local/lib/python3.6/dist-packages (from fiona->geopandas==0.8.0+4.gb0381e1) (7.1.2)\n",
            "Requirement already satisfied: munch in /usr/local/lib/python3.6/dist-packages (from fiona->geopandas==0.8.0+4.gb0381e1) (2.5.0)\n",
            "Building wheels for collected packages: geopandas\n",
            "  Building wheel for geopandas (setup.py) ... \u001b[?25l\u001b[?25hdone\n",
            "  Created wheel for geopandas: filename=geopandas-0.8.0+4.gb0381e1-py2.py3-none-any.whl size=962710 sha256=aab042a4f17045d7fd012bea97cbee084048ac78f18d35cf9545992fd966549e\n",
            "  Stored in directory: /tmp/pip-ephem-wheel-cache-0e7h3h2p/wheels/91/24/71/376c9c67192694168352afcccc2d264248f7e2cc6192997186\n",
            "Successfully built geopandas\n",
            "Requirement already satisfied: descartes in /usr/local/lib/python3.6/dist-packages (1.1.0)\n",
            "Requirement already satisfied: matplotlib in /usr/local/lib/python3.6/dist-packages (from descartes) (3.2.2)\n",
            "Requirement already satisfied: cycler>=0.10 in /usr/local/lib/python3.6/dist-packages (from matplotlib->descartes) (0.10.0)\n",
            "Requirement already satisfied: numpy>=1.11 in /usr/local/lib/python3.6/dist-packages (from matplotlib->descartes) (1.18.5)\n",
            "Requirement already satisfied: python-dateutil>=2.1 in /usr/local/lib/python3.6/dist-packages (from matplotlib->descartes) (2.8.1)\n",
            "Requirement already satisfied: kiwisolver>=1.0.1 in /usr/local/lib/python3.6/dist-packages (from matplotlib->descartes) (1.2.0)\n",
            "Requirement already satisfied: pyparsing!=2.0.4,!=2.1.2,!=2.1.6,>=2.0.1 in /usr/local/lib/python3.6/dist-packages (from matplotlib->descartes) (2.4.7)\n",
            "Requirement already satisfied: six in /usr/local/lib/python3.6/dist-packages (from cycler>=0.10->matplotlib->descartes) (1.12.0)\n",
            "CPU times: user 123 ms, sys: 40.8 ms, total: 164 ms\n",
            "Wall time: 18 s\n"
          ],
          "name": "stdout"
        }
      ]
    },
    {
      "cell_type": "code",
      "metadata": {
        "id": "aPMHoFWpBZDp",
        "colab_type": "code",
        "colab": {
          "base_uri": "https://localhost:8080/",
          "height": 877
        },
        "outputId": "ef458344-8477-4d65-b651-58515b896a71"
      },
      "source": [
        "pip install earthpy"
      ],
      "execution_count": 3,
      "outputs": [
        {
          "output_type": "stream",
          "text": [
            "Collecting earthpy\n",
            "\u001b[?25l  Downloading https://files.pythonhosted.org/packages/2d/ee/30cd183c5b58c967ec52bb3bd8decc0a1798f15c94898b84e6ee6b0baa39/earthpy-0.9.2.tar.gz (1.4MB)\n",
            "\u001b[K     |████████████████████████████████| 1.4MB 2.8MB/s \n",
            "\u001b[?25h  Installing build dependencies ... \u001b[?25l\u001b[?25hdone\n",
            "  Getting requirements to build wheel ... \u001b[?25l\u001b[?25hdone\n",
            "    Preparing wheel metadata ... \u001b[?25l\u001b[?25hdone\n",
            "Requirement already satisfied: numpy>=1.14.0 in /usr/local/lib/python3.6/dist-packages (from earthpy) (1.18.5)\n",
            "Requirement already satisfied: matplotlib>=2.0.0 in /usr/local/lib/python3.6/dist-packages (from earthpy) (3.2.2)\n",
            "Requirement already satisfied: geopandas in /usr/local/lib/python3.6/dist-packages (from earthpy) (0.8.0+4.gb0381e1)\n",
            "Requirement already satisfied: requests in /usr/local/lib/python3.6/dist-packages (from earthpy) (2.23.0)\n",
            "Collecting rasterio\n",
            "\u001b[?25l  Downloading https://files.pythonhosted.org/packages/02/7e/eed7dfd109fc89ed3cf8b5ed3f26f841b03b92f6ca1c31c4745f938a081b/rasterio-1.1.5-cp36-cp36m-manylinux1_x86_64.whl (18.2MB)\n",
            "\u001b[K     |████████████████████████████████| 18.2MB 233kB/s \n",
            "\u001b[?25hRequirement already satisfied: scikit-image in /usr/local/lib/python3.6/dist-packages (from earthpy) (0.16.2)\n",
            "Requirement already satisfied: python-dateutil>=2.1 in /usr/local/lib/python3.6/dist-packages (from matplotlib>=2.0.0->earthpy) (2.8.1)\n",
            "Requirement already satisfied: cycler>=0.10 in /usr/local/lib/python3.6/dist-packages (from matplotlib>=2.0.0->earthpy) (0.10.0)\n",
            "Requirement already satisfied: pyparsing!=2.0.4,!=2.1.2,!=2.1.6,>=2.0.1 in /usr/local/lib/python3.6/dist-packages (from matplotlib>=2.0.0->earthpy) (2.4.7)\n",
            "Requirement already satisfied: kiwisolver>=1.0.1 in /usr/local/lib/python3.6/dist-packages (from matplotlib>=2.0.0->earthpy) (1.2.0)\n",
            "Requirement already satisfied: pandas>=0.23.0 in /usr/local/lib/python3.6/dist-packages (from geopandas->earthpy) (1.0.5)\n",
            "Requirement already satisfied: pyproj>=2.2.0 in /usr/local/lib/python3.6/dist-packages (from geopandas->earthpy) (2.6.1.post1)\n",
            "Requirement already satisfied: shapely in /usr/local/lib/python3.6/dist-packages (from geopandas->earthpy) (1.7.0)\n",
            "Requirement already satisfied: fiona in /usr/local/lib/python3.6/dist-packages (from geopandas->earthpy) (1.8.13.post1)\n",
            "Requirement already satisfied: urllib3!=1.25.0,!=1.25.1,<1.26,>=1.21.1 in /usr/local/lib/python3.6/dist-packages (from requests->earthpy) (1.24.3)\n",
            "Requirement already satisfied: certifi>=2017.4.17 in /usr/local/lib/python3.6/dist-packages (from requests->earthpy) (2020.6.20)\n",
            "Requirement already satisfied: chardet<4,>=3.0.2 in /usr/local/lib/python3.6/dist-packages (from requests->earthpy) (3.0.4)\n",
            "Requirement already satisfied: idna<3,>=2.5 in /usr/local/lib/python3.6/dist-packages (from requests->earthpy) (2.9)\n",
            "Collecting snuggs>=1.4.1\n",
            "  Downloading https://files.pythonhosted.org/packages/cc/0e/d27d6e806d6c0d1a2cfdc5d1f088e42339a0a54a09c3343f7f81ec8947ea/snuggs-1.4.7-py3-none-any.whl\n",
            "Requirement already satisfied: attrs in /usr/local/lib/python3.6/dist-packages (from rasterio->earthpy) (19.3.0)\n",
            "Requirement already satisfied: click-plugins in /usr/local/lib/python3.6/dist-packages (from rasterio->earthpy) (1.1.1)\n",
            "Requirement already satisfied: cligj>=0.5 in /usr/local/lib/python3.6/dist-packages (from rasterio->earthpy) (0.5.0)\n",
            "Requirement already satisfied: click<8,>=4.0 in /usr/local/lib/python3.6/dist-packages (from rasterio->earthpy) (7.1.2)\n",
            "Collecting affine\n",
            "  Downloading https://files.pythonhosted.org/packages/ac/a6/1a39a1ede71210e3ddaf623982b06ecfc5c5c03741ae659073159184cd3e/affine-2.3.0-py2.py3-none-any.whl\n",
            "Requirement already satisfied: imageio>=2.3.0 in /usr/local/lib/python3.6/dist-packages (from scikit-image->earthpy) (2.4.1)\n",
            "Requirement already satisfied: pillow>=4.3.0 in /usr/local/lib/python3.6/dist-packages (from scikit-image->earthpy) (7.0.0)\n",
            "Requirement already satisfied: PyWavelets>=0.4.0 in /usr/local/lib/python3.6/dist-packages (from scikit-image->earthpy) (1.1.1)\n",
            "Requirement already satisfied: scipy>=0.19.0 in /usr/local/lib/python3.6/dist-packages (from scikit-image->earthpy) (1.4.1)\n",
            "Requirement already satisfied: networkx>=2.0 in /usr/local/lib/python3.6/dist-packages (from scikit-image->earthpy) (2.4)\n",
            "Requirement already satisfied: six>=1.5 in /usr/local/lib/python3.6/dist-packages (from python-dateutil>=2.1->matplotlib>=2.0.0->earthpy) (1.12.0)\n",
            "Requirement already satisfied: pytz>=2017.2 in /usr/local/lib/python3.6/dist-packages (from pandas>=0.23.0->geopandas->earthpy) (2018.9)\n",
            "Requirement already satisfied: munch in /usr/local/lib/python3.6/dist-packages (from fiona->geopandas->earthpy) (2.5.0)\n",
            "Requirement already satisfied: decorator>=4.3.0 in /usr/local/lib/python3.6/dist-packages (from networkx>=2.0->scikit-image->earthpy) (4.4.2)\n",
            "Building wheels for collected packages: earthpy\n",
            "  Building wheel for earthpy (PEP 517) ... \u001b[?25l\u001b[?25hdone\n",
            "  Created wheel for earthpy: filename=earthpy-0.9.2-cp36-none-any.whl size=1365087 sha256=1b0200c836c26082e0af69565de055d6d7f77c407bf65ac2a7ddf659628902a2\n",
            "  Stored in directory: /root/.cache/pip/wheels/27/f9/a5/026bb95ef7b12f9343b842da6897b4001c5b902550095cbbbe\n",
            "Successfully built earthpy\n",
            "Installing collected packages: snuggs, affine, rasterio, earthpy\n",
            "Successfully installed affine-2.3.0 earthpy-0.9.2 rasterio-1.1.5 snuggs-1.4.7\n"
          ],
          "name": "stdout"
        }
      ]
    },
    {
      "cell_type": "code",
      "metadata": {
        "id": "NjVX9SLB94e0",
        "colab_type": "code",
        "colab": {}
      },
      "source": [
        "import os\n",
        "import numpy as np\n",
        "import geopandas as gpd\n",
        "import matplotlib.pyplot as plt\n",
        "import matplotlib.lines as mlines\n",
        "from matplotlib.colors import ListedColormap\n",
        "import earthpy as et\n",
        "import pandas as pd\n",
        "# import pygeos\n",
        "# import rtree"
      ],
      "execution_count": 3,
      "outputs": []
    },
    {
      "cell_type": "code",
      "metadata": {
        "id": "513D7xCu98_i",
        "colab_type": "code",
        "colab": {}
      },
      "source": [
        "df_com = pd.read_csv('/content/drive/My Drive/CPD/Areas/CommAreas.csv')"
      ],
      "execution_count": 4,
      "outputs": []
    },
    {
      "cell_type": "code",
      "metadata": {
        "id": "4Iu5LSpa_XJ0",
        "colab_type": "code",
        "colab": {}
      },
      "source": [
        "comm_area_bound = gpd.read_file(\"/content/geo_export_87fc44da-8010-486c-85f9-93a81cceb1a3.shp\")"
      ],
      "execution_count": 6,
      "outputs": []
    },
    {
      "cell_type": "code",
      "metadata": {
        "id": "OGEaE4l8AJSF",
        "colab_type": "code",
        "colab": {
          "base_uri": "https://localhost:8080/",
          "height": 118
        },
        "outputId": "ab28b9f3-5bd3-4c01-d950-499b46801545"
      },
      "source": [
        "comm_area_bound.geom_type.head()"
      ],
      "execution_count": 7,
      "outputs": [
        {
          "output_type": "execute_result",
          "data": {
            "text/plain": [
              "0    Polygon\n",
              "1    Polygon\n",
              "2    Polygon\n",
              "3    Polygon\n",
              "4    Polygon\n",
              "dtype: object"
            ]
          },
          "metadata": {
            "tags": []
          },
          "execution_count": 7
        }
      ]
    },
    {
      "cell_type": "code",
      "metadata": {
        "id": "yznW7y33Ifb7",
        "colab_type": "code",
        "colab": {
          "base_uri": "https://localhost:8080/",
          "height": 282
        },
        "outputId": "a562b9f1-e7cd-4888-e163-1253829b833f"
      },
      "source": [
        "comm_area_bound.plot()"
      ],
      "execution_count": 8,
      "outputs": [
        {
          "output_type": "execute_result",
          "data": {
            "text/plain": [
              "<matplotlib.axes._subplots.AxesSubplot at 0x7f6592a82400>"
            ]
          },
          "metadata": {
            "tags": []
          },
          "execution_count": 8
        },
        {
          "output_type": "display_data",
          "data": {
            "image/png": "[encoded data removed]",
            "text/plain": [
              "<Figure size 432x288 with 1 Axes>"
            ]
          },
          "metadata": {
            "tags": [],
            "needs_background": "light"
          }
        }
      ]
    },
    {
      "cell_type": "code",
      "metadata": {
        "id": "cDPHovZG4KUo",
        "colab_type": "code",
        "colab": {
          "base_uri": "https://localhost:8080/",
          "height": 279
        },
        "outputId": "664edae1-1088-471c-ad33-3a981cecf9d7"
      },
      "source": [
        "comm_area_bound.head()"
      ],
      "execution_count": 9,
      "outputs": [
        {
          "output_type": "execute_result",
          "data": {
            "text/html": [
              "<div>\n",
              "<style scoped>\n",
              "    .dataframe tbody tr th:only-of-type {\n",
              "        vertical-align: middle;\n",
              "    }\n",
              "\n",
              "    .dataframe tbody tr th {\n",
              "        vertical-align: top;\n",
              "    }\n",
              "\n",
              "    .dataframe thead th {\n",
              "        text-align: right;\n",
              "    }\n",
              "</style>\n",
              "<table border=\"1\" class=\"dataframe\">\n",
              "  <thead>\n",
              "    <tr style=\"text-align: right;\">\n",
              "      <th></th>\n",
              "      <th>area</th>\n",
              "      <th>area_num_1</th>\n",
              "      <th>area_numbe</th>\n",
              "      <th>comarea</th>\n",
              "      <th>comarea_id</th>\n",
              "      <th>community</th>\n",
              "      <th>perimeter</th>\n",
              "      <th>shape_area</th>\n",
              "      <th>shape_len</th>\n",
              "      <th>geometry</th>\n",
              "    </tr>\n",
              "  </thead>\n",
              "  <tbody>\n",
              "    <tr>\n",
              "      <th>0</th>\n",
              "      <td>0.0</td>\n",
              "      <td>35</td>\n",
              "      <td>35</td>\n",
              "      <td>0.0</td>\n",
              "      <td>0.0</td>\n",
              "      <td>DOUGLAS</td>\n",
              "      <td>0.0</td>\n",
              "      <td>4.600462e+07</td>\n",
              "      <td>31027.054510</td>\n",
              "      <td>POLYGON ((-87.60914 41.84469, -87.60915 41.844...</td>\n",
              "    </tr>\n",
              "    <tr>\n",
              "      <th>1</th>\n",
              "      <td>0.0</td>\n",
              "      <td>36</td>\n",
              "      <td>36</td>\n",
              "      <td>0.0</td>\n",
              "      <td>0.0</td>\n",
              "      <td>OAKLAND</td>\n",
              "      <td>0.0</td>\n",
              "      <td>1.691396e+07</td>\n",
              "      <td>19565.506153</td>\n",
              "      <td>POLYGON ((-87.59215 41.81693, -87.59231 41.816...</td>\n",
              "    </tr>\n",
              "    <tr>\n",
              "      <th>2</th>\n",
              "      <td>0.0</td>\n",
              "      <td>37</td>\n",
              "      <td>37</td>\n",
              "      <td>0.0</td>\n",
              "      <td>0.0</td>\n",
              "      <td>FULLER PARK</td>\n",
              "      <td>0.0</td>\n",
              "      <td>1.991670e+07</td>\n",
              "      <td>25339.089750</td>\n",
              "      <td>POLYGON ((-87.62880 41.80189, -87.62879 41.801...</td>\n",
              "    </tr>\n",
              "    <tr>\n",
              "      <th>3</th>\n",
              "      <td>0.0</td>\n",
              "      <td>38</td>\n",
              "      <td>38</td>\n",
              "      <td>0.0</td>\n",
              "      <td>0.0</td>\n",
              "      <td>GRAND BOULEVARD</td>\n",
              "      <td>0.0</td>\n",
              "      <td>4.849250e+07</td>\n",
              "      <td>28196.837157</td>\n",
              "      <td>POLYGON ((-87.60671 41.81681, -87.60670 41.816...</td>\n",
              "    </tr>\n",
              "    <tr>\n",
              "      <th>4</th>\n",
              "      <td>0.0</td>\n",
              "      <td>39</td>\n",
              "      <td>39</td>\n",
              "      <td>0.0</td>\n",
              "      <td>0.0</td>\n",
              "      <td>KENWOOD</td>\n",
              "      <td>0.0</td>\n",
              "      <td>2.907174e+07</td>\n",
              "      <td>23325.167906</td>\n",
              "      <td>POLYGON ((-87.59215 41.81693, -87.59215 41.816...</td>\n",
              "    </tr>\n",
              "  </tbody>\n",
              "</table>\n",
              "</div>"
            ],
            "text/plain": [
              "   area  ...                                           geometry\n",
              "0   0.0  ...  POLYGON ((-87.60914 41.84469, -87.60915 41.844...\n",
              "1   0.0  ...  POLYGON ((-87.59215 41.81693, -87.59231 41.816...\n",
              "2   0.0  ...  POLYGON ((-87.62880 41.80189, -87.62879 41.801...\n",
              "3   0.0  ...  POLYGON ((-87.60671 41.81681, -87.60670 41.816...\n",
              "4   0.0  ...  POLYGON ((-87.59215 41.81693, -87.59215 41.816...\n",
              "\n",
              "[5 rows x 10 columns]"
            ]
          },
          "metadata": {
            "tags": []
          },
          "execution_count": 9
        }
      ]
    },
    {
      "cell_type": "code",
      "metadata": {
        "id": "3St7fG1UJExv",
        "colab_type": "code",
        "colab": {}
      },
      "source": [
        "pol_dis_bound = gpd.read_file(\"/content/geo_export_fa4b0c59-5f5d-48a5-9293-4a5b76ee95b7.shp\")"
      ],
      "execution_count": 10,
      "outputs": []
    },
    {
      "cell_type": "code",
      "metadata": {
        "id": "KREIjV0VJy0-",
        "colab_type": "code",
        "colab": {
          "base_uri": "https://localhost:8080/",
          "height": 282
        },
        "outputId": "4bc7ab67-c73f-4cd6-a822-f414de31eeb5"
      },
      "source": [
        "pol_dis_bound.plot()"
      ],
      "execution_count": 11,
      "outputs": [
        {
          "output_type": "execute_result",
          "data": {
            "text/plain": [
              "<matplotlib.axes._subplots.AxesSubplot at 0x7f658fcd6c88>"
            ]
          },
          "metadata": {
            "tags": []
          },
          "execution_count": 11
        },
        {
          "output_type": "display_data",
          "data": {
            "image/png": "[encoded data removed]",
            "text/plain": [
              "<Figure size 432x288 with 1 Axes>"
            ]
          },
          "metadata": {
            "tags": [],
            "needs_background": "light"
          }
        }
      ]
    },
    {
      "cell_type": "code",
      "metadata": {
        "id": "qXVY3RUDJ2DU",
        "colab_type": "code",
        "colab": {}
      },
      "source": [
        "pol_dis_bound['dist_num'] = pol_dis_bound['dist_num'].astype('int64') "
      ],
      "execution_count": 12,
      "outputs": []
    },
    {
      "cell_type": "code",
      "metadata": {
        "id": "Rz4mlOMmRBIf",
        "colab_type": "code",
        "colab": {
          "base_uri": "https://localhost:8080/",
          "height": 454
        },
        "outputId": "cbff4a98-e13a-45c0-c2a8-b7b8f0d06fd9"
      },
      "source": [
        "pol_dis_bound['dist_label']"
      ],
      "execution_count": 13,
      "outputs": [
        {
          "output_type": "execute_result",
          "data": {
            "text/plain": [
              "0     17TH\n",
              "1     20TH\n",
              "2     31ST\n",
              "3     31ST\n",
              "4     19TH\n",
              "5     25TH\n",
              "6     14TH\n",
              "7     31ST\n",
              "8     22ND\n",
              "9      5TH\n",
              "10    24TH\n",
              "11    16TH\n",
              "12     8TH\n",
              "13    18TH\n",
              "14    12TH\n",
              "15    11TH\n",
              "16     7TH\n",
              "17     3RD\n",
              "18     4TH\n",
              "19     6TH\n",
              "20    10TH\n",
              "21     1ST\n",
              "22     9TH\n",
              "23     2ND\n",
              "24    15TH\n",
              "Name: dist_label, dtype: object"
            ]
          },
          "metadata": {
            "tags": []
          },
          "execution_count": 13
        }
      ]
    },
    {
      "cell_type": "code",
      "metadata": {
        "id": "JByDlaQKKWnz",
        "colab_type": "code",
        "colab": {}
      },
      "source": [
        "pol_dis_bound = pol_dis_bound.sort_values(by = 'dist_num')"
      ],
      "execution_count": 14,
      "outputs": []
    },
    {
      "cell_type": "code",
      "metadata": {
        "id": "wh1Twiku5N6d",
        "colab_type": "code",
        "colab": {
          "base_uri": "https://localhost:8080/",
          "height": 279
        },
        "outputId": "e1b261ec-abaa-4b6d-bd9c-ed6935a74718"
      },
      "source": [
        "comm_area_bound.head()"
      ],
      "execution_count": 15,
      "outputs": [
        {
          "output_type": "execute_result",
          "data": {
            "text/html": [
              "<div>\n",
              "<style scoped>\n",
              "    .dataframe tbody tr th:only-of-type {\n",
              "        vertical-align: middle;\n",
              "    }\n",
              "\n",
              "    .dataframe tbody tr th {\n",
              "        vertical-align: top;\n",
              "    }\n",
              "\n",
              "    .dataframe thead th {\n",
              "        text-align: right;\n",
              "    }\n",
              "</style>\n",
              "<table border=\"1\" class=\"dataframe\">\n",
              "  <thead>\n",
              "    <tr style=\"text-align: right;\">\n",
              "      <th></th>\n",
              "      <th>area</th>\n",
              "      <th>area_num_1</th>\n",
              "      <th>area_numbe</th>\n",
              "      <th>comarea</th>\n",
              "      <th>comarea_id</th>\n",
              "      <th>community</th>\n",
              "      <th>perimeter</th>\n",
              "      <th>shape_area</th>\n",
              "      <th>shape_len</th>\n",
              "      <th>geometry</th>\n",
              "    </tr>\n",
              "  </thead>\n",
              "  <tbody>\n",
              "    <tr>\n",
              "      <th>0</th>\n",
              "      <td>0.0</td>\n",
              "      <td>35</td>\n",
              "      <td>35</td>\n",
              "      <td>0.0</td>\n",
              "      <td>0.0</td>\n",
              "      <td>DOUGLAS</td>\n",
              "      <td>0.0</td>\n",
              "      <td>4.600462e+07</td>\n",
              "      <td>31027.054510</td>\n",
              "      <td>POLYGON ((-87.60914 41.84469, -87.60915 41.844...</td>\n",
              "    </tr>\n",
              "    <tr>\n",
              "      <th>1</th>\n",
              "      <td>0.0</td>\n",
              "      <td>36</td>\n",
              "      <td>36</td>\n",
              "      <td>0.0</td>\n",
              "      <td>0.0</td>\n",
              "      <td>OAKLAND</td>\n",
              "      <td>0.0</td>\n",
              "      <td>1.691396e+07</td>\n",
              "      <td>19565.506153</td>\n",
              "      <td>POLYGON ((-87.59215 41.81693, -87.59231 41.816...</td>\n",
              "    </tr>\n",
              "    <tr>\n",
              "      <th>2</th>\n",
              "      <td>0.0</td>\n",
              "      <td>37</td>\n",
              "      <td>37</td>\n",
              "      <td>0.0</td>\n",
              "      <td>0.0</td>\n",
              "      <td>FULLER PARK</td>\n",
              "      <td>0.0</td>\n",
              "      <td>1.991670e+07</td>\n",
              "      <td>25339.089750</td>\n",
              "      <td>POLYGON ((-87.62880 41.80189, -87.62879 41.801...</td>\n",
              "    </tr>\n",
              "    <tr>\n",
              "      <th>3</th>\n",
              "      <td>0.0</td>\n",
              "      <td>38</td>\n",
              "      <td>38</td>\n",
              "      <td>0.0</td>\n",
              "      <td>0.0</td>\n",
              "      <td>GRAND BOULEVARD</td>\n",
              "      <td>0.0</td>\n",
              "      <td>4.849250e+07</td>\n",
              "      <td>28196.837157</td>\n",
              "      <td>POLYGON ((-87.60671 41.81681, -87.60670 41.816...</td>\n",
              "    </tr>\n",
              "    <tr>\n",
              "      <th>4</th>\n",
              "      <td>0.0</td>\n",
              "      <td>39</td>\n",
              "      <td>39</td>\n",
              "      <td>0.0</td>\n",
              "      <td>0.0</td>\n",
              "      <td>KENWOOD</td>\n",
              "      <td>0.0</td>\n",
              "      <td>2.907174e+07</td>\n",
              "      <td>23325.167906</td>\n",
              "      <td>POLYGON ((-87.59215 41.81693, -87.59215 41.816...</td>\n",
              "    </tr>\n",
              "  </tbody>\n",
              "</table>\n",
              "</div>"
            ],
            "text/plain": [
              "   area  ...                                           geometry\n",
              "0   0.0  ...  POLYGON ((-87.60914 41.84469, -87.60915 41.844...\n",
              "1   0.0  ...  POLYGON ((-87.59215 41.81693, -87.59231 41.816...\n",
              "2   0.0  ...  POLYGON ((-87.62880 41.80189, -87.62879 41.801...\n",
              "3   0.0  ...  POLYGON ((-87.60671 41.81681, -87.60670 41.816...\n",
              "4   0.0  ...  POLYGON ((-87.59215 41.81693, -87.59215 41.816...\n",
              "\n",
              "[5 rows x 10 columns]"
            ]
          },
          "metadata": {
            "tags": []
          },
          "execution_count": 15
        }
      ]
    },
    {
      "cell_type": "code",
      "metadata": {
        "id": "-vm6Z01wEO8J",
        "colab_type": "code",
        "colab": {}
      },
      "source": [
        "df1 = pol_dis_bound[[\"dist_num\",\"geometry\"]]\n",
        "df2 = comm_area_bound[[\"community\",\"geometry\"]]"
      ],
      "execution_count": 16,
      "outputs": []
    },
    {
      "cell_type": "code",
      "metadata": {
        "id": "Q7k4990eEl8r",
        "colab_type": "code",
        "colab": {}
      },
      "source": [
        "res_intersection = gpd.overlay(df1,df2, how='intersection')"
      ],
      "execution_count": 21,
      "outputs": []
    },
    {
      "cell_type": "code",
      "metadata": {
        "id": "z9PeGS3rSyKL",
        "colab_type": "code",
        "colab": {}
      },
      "source": [
        "result = pd.merge(df2,res_intersection, on='community', how='outer', validate=\"one_to_many\")\n"
      ],
      "execution_count": 38,
      "outputs": []
    },
    {
      "cell_type": "code",
      "metadata": {
        "id": "gX1ygZZDVwR5",
        "colab_type": "code",
        "colab": {
          "base_uri": "https://localhost:8080/",
          "height": 87
        },
        "outputId": "88f02f1b-aba3-489b-bdfe-bed36f25a18d"
      },
      "source": [
        "result['comm_area'] = result['geometry_x'].area\n"
      ],
      "execution_count": 40,
      "outputs": [
        {
          "output_type": "stream",
          "text": [
            "/usr/local/lib/python3.6/dist-packages/ipykernel_launcher.py:1: UserWarning: Geometry is in a geographic CRS. Results from 'area' are likely incorrect. Use 'GeoSeries.to_crs()' to re-project geometries to a projected CRS before this operation.\n",
            "\n",
            "  \"\"\"Entry point for launching an IPython kernel.\n"
          ],
          "name": "stderr"
        }
      ]
    },
    {
      "cell_type": "code",
      "metadata": {
        "id": "2Qy6upQMVmbJ",
        "colab_type": "code",
        "colab": {}
      },
      "source": [
        "result= result.rename(columns={'geometry_x':'geo_comm','geometry_y':'geo_intersec'})"
      ],
      "execution_count": 51,
      "outputs": []
    },
    {
      "cell_type": "code",
      "metadata": {
        "id": "PsHS3LBTXUfs",
        "colab_type": "code",
        "colab": {
          "base_uri": "https://localhost:8080/",
          "height": 570
        },
        "outputId": "c5187928-11b2-4eaa-c375-953d6cccac64"
      },
      "source": [
        "result"
      ],
      "execution_count": 52,
      "outputs": [
        {
          "output_type": "execute_result",
          "data": {
            "text/html": [
              "<div>\n",
              "<style scoped>\n",
              "    .dataframe tbody tr th:only-of-type {\n",
              "        vertical-align: middle;\n",
              "    }\n",
              "\n",
              "    .dataframe tbody tr th {\n",
              "        vertical-align: top;\n",
              "    }\n",
              "\n",
              "    .dataframe thead th {\n",
              "        text-align: right;\n",
              "    }\n",
              "</style>\n",
              "<table border=\"1\" class=\"dataframe\">\n",
              "  <thead>\n",
              "    <tr style=\"text-align: right;\">\n",
              "      <th></th>\n",
              "      <th>community</th>\n",
              "      <th>geo_comm</th>\n",
              "      <th>dist_num</th>\n",
              "      <th>geo_intersec</th>\n",
              "      <th>intersection_area</th>\n",
              "      <th>comm_area</th>\n",
              "      <th>intersection_area_perc</th>\n",
              "    </tr>\n",
              "  </thead>\n",
              "  <tbody>\n",
              "    <tr>\n",
              "      <th>0</th>\n",
              "      <td>DOUGLAS</td>\n",
              "      <td>POLYGON ((-87.60914 41.84469, -87.60915 41.844...</td>\n",
              "      <td>1</td>\n",
              "      <td>POLYGON ((-87.60914 41.84469, -87.60915 41.844...</td>\n",
              "      <td>1.534606e-04</td>\n",
              "      <td>0.000463</td>\n",
              "      <td>33.127688</td>\n",
              "    </tr>\n",
              "    <tr>\n",
              "      <th>1</th>\n",
              "      <td>DOUGLAS</td>\n",
              "      <td>POLYGON ((-87.60914 41.84469, -87.60915 41.844...</td>\n",
              "      <td>2</td>\n",
              "      <td>POLYGON ((-87.60769 41.83858, -87.60618 41.838...</td>\n",
              "      <td>3.078244e-04</td>\n",
              "      <td>0.000463</td>\n",
              "      <td>66.450359</td>\n",
              "    </tr>\n",
              "    <tr>\n",
              "      <th>2</th>\n",
              "      <td>DOUGLAS</td>\n",
              "      <td>POLYGON ((-87.60914 41.84469, -87.60915 41.844...</td>\n",
              "      <td>9</td>\n",
              "      <td>POLYGON ((-87.62991 41.84555, -87.62991 41.845...</td>\n",
              "      <td>2.249471e-07</td>\n",
              "      <td>0.000463</td>\n",
              "      <td>0.048560</td>\n",
              "    </tr>\n",
              "    <tr>\n",
              "      <th>3</th>\n",
              "      <td>OAKLAND</td>\n",
              "      <td>POLYGON ((-87.59215 41.81693, -87.59231 41.816...</td>\n",
              "      <td>2</td>\n",
              "      <td>POLYGON ((-87.60280 41.83137, -87.60279 41.831...</td>\n",
              "      <td>1.626445e-04</td>\n",
              "      <td>0.000170</td>\n",
              "      <td>95.514118</td>\n",
              "    </tr>\n",
              "    <tr>\n",
              "      <th>4</th>\n",
              "      <td>FULLER PARK</td>\n",
              "      <td>POLYGON ((-87.62880 41.80189, -87.62879 41.801...</td>\n",
              "      <td>2</td>\n",
              "      <td>POLYGON ((-87.63077 41.79455, -87.63077 41.794...</td>\n",
              "      <td>4.423698e-05</td>\n",
              "      <td>0.000200</td>\n",
              "      <td>22.066642</td>\n",
              "    </tr>\n",
              "    <tr>\n",
              "      <th>...</th>\n",
              "      <td>...</td>\n",
              "      <td>...</td>\n",
              "      <td>...</td>\n",
              "      <td>...</td>\n",
              "      <td>...</td>\n",
              "      <td>...</td>\n",
              "      <td>...</td>\n",
              "    </tr>\n",
              "    <tr>\n",
              "      <th>192</th>\n",
              "      <td>OHARE</td>\n",
              "      <td>MULTIPOLYGON (((-87.83658 41.98640, -87.83658 ...</td>\n",
              "      <td>16</td>\n",
              "      <td>MULTIPOLYGON (((-87.83481 41.93758, -87.83499 ...</td>\n",
              "      <td>3.750280e-03</td>\n",
              "      <td>0.003752</td>\n",
              "      <td>99.940868</td>\n",
              "    </tr>\n",
              "    <tr>\n",
              "      <th>193</th>\n",
              "      <td>OHARE</td>\n",
              "      <td>MULTIPOLYGON (((-87.83658 41.98640, -87.83658 ...</td>\n",
              "      <td>31</td>\n",
              "      <td>MULTIPOLYGON (((-87.83669 41.97477, -87.83663 ...</td>\n",
              "      <td>5.164504e-08</td>\n",
              "      <td>0.003752</td>\n",
              "      <td>0.001376</td>\n",
              "    </tr>\n",
              "    <tr>\n",
              "      <th>194</th>\n",
              "      <td>EDGEWATER</td>\n",
              "      <td>POLYGON ((-87.65456 41.99817, -87.65456 41.998...</td>\n",
              "      <td>20</td>\n",
              "      <td>POLYGON ((-87.66029 41.99092, -87.66029 41.990...</td>\n",
              "      <td>3.345432e-04</td>\n",
              "      <td>0.000489</td>\n",
              "      <td>68.412191</td>\n",
              "    </tr>\n",
              "    <tr>\n",
              "      <th>195</th>\n",
              "      <td>EDGEWATER</td>\n",
              "      <td>POLYGON ((-87.65456 41.99817, -87.65456 41.998...</td>\n",
              "      <td>24</td>\n",
              "      <td>POLYGON ((-87.65455 41.99816, -87.65453 41.998...</td>\n",
              "      <td>1.544679e-04</td>\n",
              "      <td>0.000489</td>\n",
              "      <td>31.587807</td>\n",
              "    </tr>\n",
              "    <tr>\n",
              "      <th>196</th>\n",
              "      <td>EDISON PARK</td>\n",
              "      <td>POLYGON ((-87.80676 42.00084, -87.80676 42.000...</td>\n",
              "      <td>16</td>\n",
              "      <td>POLYGON ((-87.80655 42.01896, -87.80655 42.018...</td>\n",
              "      <td>3.193665e-04</td>\n",
              "      <td>0.000319</td>\n",
              "      <td>99.982680</td>\n",
              "    </tr>\n",
              "  </tbody>\n",
              "</table>\n",
              "<p>197 rows × 7 columns</p>\n",
              "</div>"
            ],
            "text/plain": [
              "       community  ... intersection_area_perc\n",
              "0        DOUGLAS  ...              33.127688\n",
              "1        DOUGLAS  ...              66.450359\n",
              "2        DOUGLAS  ...               0.048560\n",
              "3        OAKLAND  ...              95.514118\n",
              "4    FULLER PARK  ...              22.066642\n",
              "..           ...  ...                    ...\n",
              "192        OHARE  ...              99.940868\n",
              "193        OHARE  ...               0.001376\n",
              "194    EDGEWATER  ...              68.412191\n",
              "195    EDGEWATER  ...              31.587807\n",
              "196  EDISON PARK  ...              99.982680\n",
              "\n",
              "[197 rows x 7 columns]"
            ]
          },
          "metadata": {
            "tags": []
          },
          "execution_count": 52
        }
      ]
    },
    {
      "cell_type": "code",
      "metadata": {
        "id": "FXv-kUa2SBZU",
        "colab_type": "code",
        "colab": {}
      },
      "source": [
        "result[\"intersection_area_perc\"] = (result['intersection_area']/result['comm_area'])*100"
      ],
      "execution_count": 42,
      "outputs": []
    },
    {
      "cell_type": "code",
      "metadata": {
        "id": "6qMr_EPEYfg2",
        "colab_type": "code",
        "colab": {}
      },
      "source": [
        "com_dis_percentage = result[['dist_num','community','intersection_area_perc']]"
      ],
      "execution_count": 53,
      "outputs": []
    },
    {
      "cell_type": "code",
      "metadata": {
        "id": "JNEMGCoqYvK4",
        "colab_type": "code",
        "colab": {}
      },
      "source": [
        "com_dis_percentage.to_csv('com_dis_percentage.csv')"
      ],
      "execution_count": 54,
      "outputs": []
    },
    {
      "cell_type": "code",
      "metadata": {
        "id": "hSufM9lRSZOa",
        "colab_type": "code",
        "colab": {
          "base_uri": "https://localhost:8080/",
          "height": 402
        },
        "outputId": "18266db2-7c7b-4f57-c903-1d589e2630c0"
      },
      "source": [
        "res_intersection"
      ],
      "execution_count": 26,
      "outputs": [
        {
          "output_type": "execute_result",
          "data": {
            "text/html": [
              "<div>\n",
              "<style scoped>\n",
              "    .dataframe tbody tr th:only-of-type {\n",
              "        vertical-align: middle;\n",
              "    }\n",
              "\n",
              "    .dataframe tbody tr th {\n",
              "        vertical-align: top;\n",
              "    }\n",
              "\n",
              "    .dataframe thead th {\n",
              "        text-align: right;\n",
              "    }\n",
              "</style>\n",
              "<table border=\"1\" class=\"dataframe\">\n",
              "  <thead>\n",
              "    <tr style=\"text-align: right;\">\n",
              "      <th></th>\n",
              "      <th>dist_num</th>\n",
              "      <th>community</th>\n",
              "      <th>geometry</th>\n",
              "      <th>intersection_area</th>\n",
              "    </tr>\n",
              "  </thead>\n",
              "  <tbody>\n",
              "    <tr>\n",
              "      <th>0</th>\n",
              "      <td>1</td>\n",
              "      <td>DOUGLAS</td>\n",
              "      <td>POLYGON ((-87.60914 41.84469, -87.60915 41.844...</td>\n",
              "      <td>1.534606e-04</td>\n",
              "    </tr>\n",
              "    <tr>\n",
              "      <th>1</th>\n",
              "      <td>2</td>\n",
              "      <td>DOUGLAS</td>\n",
              "      <td>POLYGON ((-87.60769 41.83858, -87.60618 41.838...</td>\n",
              "      <td>3.078244e-04</td>\n",
              "    </tr>\n",
              "    <tr>\n",
              "      <th>2</th>\n",
              "      <td>9</td>\n",
              "      <td>DOUGLAS</td>\n",
              "      <td>POLYGON ((-87.62991 41.84555, -87.62991 41.845...</td>\n",
              "      <td>2.249471e-07</td>\n",
              "    </tr>\n",
              "    <tr>\n",
              "      <th>3</th>\n",
              "      <td>1</td>\n",
              "      <td>NEAR WEST SIDE</td>\n",
              "      <td>POLYGON ((-87.63451 41.86013, -87.63562 41.860...</td>\n",
              "      <td>2.173142e-04</td>\n",
              "    </tr>\n",
              "    <tr>\n",
              "      <th>4</th>\n",
              "      <td>9</td>\n",
              "      <td>NEAR WEST SIDE</td>\n",
              "      <td>MULTIPOLYGON (((-87.63480 41.85888, -87.63478 ...</td>\n",
              "      <td>1.400402e-09</td>\n",
              "    </tr>\n",
              "    <tr>\n",
              "      <th>...</th>\n",
              "      <td>...</td>\n",
              "      <td>...</td>\n",
              "      <td>...</td>\n",
              "      <td>...</td>\n",
              "    </tr>\n",
              "    <tr>\n",
              "      <th>192</th>\n",
              "      <td>20</td>\n",
              "      <td>EDGEWATER</td>\n",
              "      <td>POLYGON ((-87.66029 41.99092, -87.66029 41.990...</td>\n",
              "      <td>3.345432e-04</td>\n",
              "    </tr>\n",
              "    <tr>\n",
              "      <th>193</th>\n",
              "      <td>24</td>\n",
              "      <td>EDGEWATER</td>\n",
              "      <td>POLYGON ((-87.65455 41.99816, -87.65453 41.998...</td>\n",
              "      <td>1.544679e-04</td>\n",
              "    </tr>\n",
              "    <tr>\n",
              "      <th>194</th>\n",
              "      <td>22</td>\n",
              "      <td>MOUNT GREENWOOD</td>\n",
              "      <td>POLYGON ((-87.69709 41.68797, -87.69709 41.687...</td>\n",
              "      <td>7.582858e-04</td>\n",
              "    </tr>\n",
              "    <tr>\n",
              "      <th>195</th>\n",
              "      <td>31</td>\n",
              "      <td>MOUNT GREENWOOD</td>\n",
              "      <td>POLYGON ((-87.69576 41.69170, -87.69590 41.691...</td>\n",
              "      <td>9.467295e-07</td>\n",
              "    </tr>\n",
              "    <tr>\n",
              "      <th>196</th>\n",
              "      <td>24</td>\n",
              "      <td>ROGERS PARK</td>\n",
              "      <td>POLYGON ((-87.67424 42.02300, -87.66541 42.022...</td>\n",
              "      <td>5.173145e-04</td>\n",
              "    </tr>\n",
              "  </tbody>\n",
              "</table>\n",
              "<p>197 rows × 4 columns</p>\n",
              "</div>"
            ],
            "text/plain": [
              "     dist_num  ... intersection_area\n",
              "0           1  ...      1.534606e-04\n",
              "1           2  ...      3.078244e-04\n",
              "2           9  ...      2.249471e-07\n",
              "3           1  ...      2.173142e-04\n",
              "4           9  ...      1.400402e-09\n",
              "..        ...  ...               ...\n",
              "192        20  ...      3.345432e-04\n",
              "193        24  ...      1.544679e-04\n",
              "194        22  ...      7.582858e-04\n",
              "195        31  ...      9.467295e-07\n",
              "196        24  ...      5.173145e-04\n",
              "\n",
              "[197 rows x 4 columns]"
            ]
          },
          "metadata": {
            "tags": []
          },
          "execution_count": 26
        }
      ]
    },
    {
      "cell_type": "code",
      "metadata": {
        "id": "pWA1BsulRPCm",
        "colab_type": "code",
        "colab": {
          "base_uri": "https://localhost:8080/",
          "height": 265
        },
        "outputId": "e207b14e-09bb-4f98-89a9-e039f61ff72a"
      },
      "source": [
        "ax = res_intersection.plot(cmap='tab10')\n",
        "\n",
        "df1.plot(ax=ax, facecolor='none', edgecolor='k');\n",
        "\n",
        "df2.plot(ax=ax, facecolor='none', edgecolor='k');"
      ],
      "execution_count": 23,
      "outputs": [
        {
          "output_type": "display_data",
          "data": {
            "image/png": "[encoded data removed]",
            "text/plain": [
              "<Figure size 432x288 with 1 Axes>"
            ]
          },
          "metadata": {
            "tags": [],
            "needs_background": "light"
          }
        }
      ]
    },
    {
      "cell_type": "code",
      "metadata": {
        "id": "7aID79wo3VjY",
        "colab_type": "code",
        "colab": {}
      },
      "source": [
        ""
      ],
      "execution_count": null,
      "outputs": []
    }
  ]
}